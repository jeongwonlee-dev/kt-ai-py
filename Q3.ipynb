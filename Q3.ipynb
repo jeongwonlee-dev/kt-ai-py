{
 "cells": [
  {
   "cell_type": "code",
   "execution_count": 1,
   "id": "acedd411",
   "metadata": {},
   "outputs": [
    {
     "name": "stdout",
     "output_type": "stream",
     "text": [
      "52\n"
     ]
    }
   ],
   "source": [
    "# Q3 Answer template\n",
    "\n",
    "def solution(left, right):\n",
    "    answer = 0\n",
    "    \n",
    "    for i in range(left, right+1):\n",
    "        cnt = 0\n",
    "        for j in range(1, i+1):\n",
    "            if i%j==0:\n",
    "                cnt+=1\n",
    "        if cnt%2==0:\n",
    "            answer+=i\n",
    "        else:\n",
    "            answer-=i\n",
    "    return answer\n",
    "\n",
    "left = 24\n",
    "right = 27\n",
    "c = solution(left, right)\n",
    "print(c)"
   ]
  }
 ],
 "metadata": {
  "kernelspec": {
   "display_name": "Python 3",
   "language": "python",
   "name": "python3"
  },
  "language_info": {
   "codemirror_mode": {
    "name": "ipython",
    "version": 3
   },
   "file_extension": ".py",
   "mimetype": "text/x-python",
   "name": "python",
   "nbconvert_exporter": "python",
   "pygments_lexer": "ipython3",
   "version": "3.8.8"
  }
 },
 "nbformat": 4,
 "nbformat_minor": 5
}
